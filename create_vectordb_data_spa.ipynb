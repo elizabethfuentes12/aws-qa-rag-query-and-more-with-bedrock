{
 "cells": [
  {
   "cell_type": "markdown",
   "metadata": {},
   "source": [
    "## Document loaders with langchain\n",
    "https://python.langchain.com/docs/modules/data_connection/document_loaders/json\n",
    "\n",
    "`pip install jq`"
   ]
  },
  {
   "cell_type": "markdown",
   "metadata": {},
   "source": [
    "### The course will show the pip installs you would need to install packages on your own machine.\n",
    "### These packages are already installed on this platform and should not be run again.\n",
    "### ! pip install pypdf "
   ]
  },
  {
   "cell_type": "code",
   "execution_count": 2,
   "metadata": {},
   "outputs": [],
   "source": [
    "from langchain.document_loaders import PyPDFLoader\n",
    "import os"
   ]
  },
  {
   "cell_type": "code",
   "execution_count": 3,
   "metadata": {},
   "outputs": [],
   "source": [
    "span_doc = os.listdir('./qa-schedule-an-appointment/spa-data/')"
   ]
  },
  {
   "cell_type": "code",
   "execution_count": 4,
   "metadata": {},
   "outputs": [
    {
     "data": {
      "text/plain": [
       "['CRANIAL-FACIAL-MASSAGE.pdf',\n",
       " 'UNLOADING-SPORTS-MASSAGE.pdf',\n",
       " 'LYMPHATIC-DRAINAGE.pdf',\n",
       " 'SCAR-MASSAGE.pdf',\n",
       " 'ABDOMINAL-MASSAGE.pdf',\n",
       " 'PERINEAL-MASSAGE.pdf',\n",
       " 'RESPIRATORY-PHYSIOTHERAPY .pdf',\n",
       " 'FOOT-MASSAGE.pdf']"
      ]
     },
     "execution_count": 4,
     "metadata": {},
     "output_type": "execute_result"
    }
   ],
   "source": [
    "span_doc"
   ]
  },
  {
   "cell_type": "code",
   "execution_count": 6,
   "metadata": {},
   "outputs": [],
   "source": [
    "loaders = []\n",
    "for n in span_doc:\n",
    "    file = \"./qa-schedule-an-appointment/spa-data/\" + n\n",
    "    loader = PyPDFLoader(file)\n",
    "    pages = loader.load()\n",
    "    loaders.append(loader.load())"
   ]
  },
  {
   "cell_type": "markdown",
   "metadata": {},
   "source": [
    "## Embeddings\n",
    "https://github.com/aws-samples/rag-using-langchain-amazon-bedrock-and-opensearch/blob/main/ask-bedrock-with-rag.py"
   ]
  },
  {
   "cell_type": "code",
   "execution_count": 8,
   "metadata": {},
   "outputs": [],
   "source": [
    "import boto3\n",
    "from langchain.embeddings import BedrockEmbeddings\n",
    "\n",
    "bedrock_client = boto3.client(\"bedrock-runtime\", region_name=\"us-east-1\")\n",
    "\n",
    "bedrock_embedding_model_id = 'amazon.titan-embed-text-v1'"
   ]
  },
  {
   "cell_type": "code",
   "execution_count": 9,
   "metadata": {},
   "outputs": [],
   "source": [
    "def create_langchain_vector_embedding_using_bedrock(bedrock_client, bedrock_embedding_model_id):\n",
    "    bedrock_embeddings_client = BedrockEmbeddings(\n",
    "        client=bedrock_client,\n",
    "        model_id=bedrock_embedding_model_id)\n",
    "    return bedrock_embeddings_client"
   ]
  },
  {
   "cell_type": "code",
   "execution_count": 10,
   "metadata": {},
   "outputs": [],
   "source": [
    "bedrock_embeddings_client = create_langchain_vector_embedding_using_bedrock(bedrock_client, bedrock_embedding_model_id)"
   ]
  },
  {
   "cell_type": "code",
   "execution_count": 11,
   "metadata": {},
   "outputs": [],
   "source": [
    "from langchain.text_splitter import RecursiveCharacterTextSplitter\n",
    "text_splitter = RecursiveCharacterTextSplitter(\n",
    "    chunk_size = 500,\n",
    "    chunk_overlap = 150\n",
    ")"
   ]
  },
  {
   "cell_type": "code",
   "execution_count": 12,
   "metadata": {},
   "outputs": [],
   "source": [
    "splits = []\n",
    "for doc in loaders:\n",
    "    splits.append(text_splitter.split_documents(doc))"
   ]
  },
  {
   "cell_type": "markdown",
   "metadata": {},
   "source": [
    "## Vectorstores\n",
    "\n",
    "https://python.langchain.com/docs/integrations/vectorstores/chroma\n",
    "\n",
    "! pip install chromadb"
   ]
  },
  {
   "cell_type": "code",
   "execution_count": 14,
   "metadata": {},
   "outputs": [],
   "source": [
    "from langchain.vectorstores import Chroma"
   ]
  },
  {
   "cell_type": "code",
   "execution_count": 15,
   "metadata": {},
   "outputs": [],
   "source": [
    "persist_directory = './qa-schedule-an-appointment/vectordb/docs/chroma/'"
   ]
  },
  {
   "cell_type": "code",
   "execution_count": 16,
   "metadata": {},
   "outputs": [],
   "source": [
    "!rm -rf ./docs/chroma  # remove old database files if any\n",
    "for split in splits :\n",
    "    vectordb = Chroma.from_documents(\n",
    "        documents=split,\n",
    "        embedding=bedrock_embeddings_client,\n",
    "        persist_directory=persist_directory\n",
    "    )\n",
    "   #print(vectordb)"
   ]
  },
  {
   "cell_type": "markdown",
   "metadata": {},
   "source": [
    "### TEST the vectordb"
   ]
  },
  {
   "cell_type": "code",
   "execution_count": 18,
   "metadata": {},
   "outputs": [
    {
     "data": {
      "text/plain": [
       "[Document(page_content='CRANIAL FACIAL MASSAGE  You probably think about going to the physical therapist to treat the muscles of the back, legs, feet, arms... but what about the muscles of the face and skull?  These muscles also need attention, and techniques specifically aimed at this musculature are necessary to regulate tone, and thereby release tensions that can lead to migraines, headaches or even bruxism.  Massage therapy provides all its benefits to this part of the cupero, also highlighting the oxygenation of', metadata={'page': 0, 'source': './qa-schedule-an-appointment/spa-data/CRANIAL-FACIAL-MASSAGE.pdf'}),\n",
       " Document(page_content='to migraines, headaches or even bruxism.  Massage therapy provides all its benefits to this part of the cupero, also highlighting the oxygenation of the tissues, the stimulation of the muscles and the reactivation of blood flow, with which we manage to restore firmness and elasticity to the skin.  With all this, this massage has not only a therapeutic purpose, but also an aesthetic purpose, reducing expression lines and wrinkles, improving tone and activating and illuminating the skin of the', metadata={'page': 0, 'source': './qa-schedule-an-appointment/spa-data/CRANIAL-FACIAL-MASSAGE.pdf'})]"
      ]
     },
     "execution_count": 18,
     "metadata": {},
     "output_type": "execute_result"
    }
   ],
   "source": [
    "query = \"Which massage is the best for relieving headache?\"\n",
    "vector_result = vectordb.similarity_search(query,k=2)\n",
    "vector_result"
   ]
  },
  {
   "cell_type": "markdown",
   "metadata": {},
   "source": []
  },
  {
   "cell_type": "code",
   "execution_count": null,
   "metadata": {},
   "outputs": [],
   "source": []
  }
 ],
 "metadata": {
  "kernelspec": {
   "display_name": "Python 3",
   "language": "python",
   "name": "python3"
  },
  "language_info": {
   "codemirror_mode": {
    "name": "ipython",
    "version": 3
   },
   "file_extension": ".py",
   "mimetype": "text/x-python",
   "name": "python",
   "nbconvert_exporter": "python",
   "pygments_lexer": "ipython3",
   "version": "3.9.6"
  }
 },
 "nbformat": 4,
 "nbformat_minor": 2
}
